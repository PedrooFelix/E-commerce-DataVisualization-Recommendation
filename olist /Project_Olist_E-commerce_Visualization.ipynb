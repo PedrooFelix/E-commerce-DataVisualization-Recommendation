{
 "cells": [
  {
   "cell_type": "markdown",
   "metadata": {},
   "source": [
    "# Importing Libraries"
   ]
  },
  {
   "cell_type": "code",
   "execution_count": null,
   "metadata": {},
   "outputs": [],
   "source": [
    "                                                                        '''\n",
    "                                                        All of the libraries that i used.\n",
    "                                                                     '''\n",
    "\n",
    "#sqlalchemy: to do the connection to PostgreSQL\n",
    "import sqlalchemy as db \n",
    "\n",
    "#os: operating system: to change the directory\n",
    "import os\n",
    "\n",
    "#selenium: to do the webscrapping\n",
    "import selenium\n",
    "from selenium.webdriver.common.by import By\n",
    "from selenium import webdriver\n",
    "from selenium.webdriver.support import expected_conditions as EC\n",
    "from selenium.webdriver.support.wait import WebDriverWait\n",
    "from selenium.common.exceptions import TimeoutException\n",
    "from selenium.webdriver.common.keys import Keys\n",
    "\n",
    "#requests: to do the url requests\n",
    "import requests\n",
    "\n",
    "#time: to do some calls doing the sleep function\n",
    "import time\n",
    "\n",
    "#multiprocess: to do some scrapping using my pc\n",
    "from multiprocess import Pool\n",
    "\n",
    "#pandas: to do all things involved operating tables\n",
    "import pandas as pd\n",
    "\n",
    "#BeautifulSoup: to do some searchs in the web\n",
    "from bs4 import BeautifulSoup\n",
    "\n",
    "#numpy\n",
    "import numpy as np\n"
   ]
  },
  {
   "cell_type": "code",
   "execution_count": null,
   "metadata": {},
   "outputs": [],
   "source": []
  }
 ],
 "metadata": {
  "kernelspec": {
   "display_name": "Python 3",
   "language": "python",
   "name": "python3"
  },
  "language_info": {
   "codemirror_mode": {
    "name": "ipython",
    "version": 3
   },
   "file_extension": ".py",
   "mimetype": "text/x-python",
   "name": "python",
   "nbconvert_exporter": "python",
   "pygments_lexer": "ipython3",
   "version": "3.8.5"
  },
  "toc": {
   "base_numbering": 1,
   "nav_menu": {},
   "number_sections": true,
   "sideBar": true,
   "skip_h1_title": false,
   "title_cell": "Table of Contents",
   "title_sidebar": "Contents",
   "toc_cell": false,
   "toc_position": {},
   "toc_section_display": true,
   "toc_window_display": false
  }
 },
 "nbformat": 4,
 "nbformat_minor": 4
}
